{
 "cells": [
  {
   "cell_type": "code",
   "execution_count": 5,
   "id": "f6674099",
   "metadata": {},
   "outputs": [],
   "source": [
    "import requests\n",
    "from bs4 import BeautifulSoup\n",
    "import selenium"
   ]
  },
  {
   "cell_type": "code",
   "execution_count": 4,
   "id": "5f780768",
   "metadata": {},
   "outputs": [
    {
     "name": "stdout",
     "output_type": "stream",
     "text": [
      "Collecting selenium\n",
      "  Downloading selenium-4.1.3-py3-none-any.whl (968 kB)\n",
      "\u001b[K     |████████████████████████████████| 968 kB 7.5 MB/s eta 0:00:01\n",
      "\u001b[?25hCollecting trio-websocket~=0.9\n",
      "  Using cached trio_websocket-0.9.2-py3-none-any.whl (16 kB)\n",
      "Requirement already satisfied: urllib3[secure,socks]~=1.26 in /Users/arounekrishnaraj/opt/anaconda3/lib/python3.9/site-packages (from selenium) (1.26.7)\n",
      "Collecting trio~=0.17\n",
      "  Using cached trio-0.20.0-py3-none-any.whl (359 kB)\n",
      "Requirement already satisfied: sortedcontainers in /Users/arounekrishnaraj/opt/anaconda3/lib/python3.9/site-packages (from trio~=0.17->selenium) (2.4.0)\n",
      "Requirement already satisfied: async-generator>=1.9 in /Users/arounekrishnaraj/opt/anaconda3/lib/python3.9/site-packages (from trio~=0.17->selenium) (1.10)\n",
      "Requirement already satisfied: idna in /Users/arounekrishnaraj/opt/anaconda3/lib/python3.9/site-packages (from trio~=0.17->selenium) (3.2)\n",
      "Requirement already satisfied: attrs>=19.2.0 in /Users/arounekrishnaraj/opt/anaconda3/lib/python3.9/site-packages (from trio~=0.17->selenium) (21.2.0)\n",
      "Requirement already satisfied: sniffio in /Users/arounekrishnaraj/opt/anaconda3/lib/python3.9/site-packages (from trio~=0.17->selenium) (1.2.0)\n",
      "Collecting outcome\n",
      "  Using cached outcome-1.1.0-py2.py3-none-any.whl (9.7 kB)\n",
      "Collecting wsproto>=0.14\n",
      "  Using cached wsproto-1.1.0-py3-none-any.whl (24 kB)\n",
      "Requirement already satisfied: pyOpenSSL>=0.14 in /Users/arounekrishnaraj/opt/anaconda3/lib/python3.9/site-packages (from urllib3[secure,socks]~=1.26->selenium) (21.0.0)\n",
      "Requirement already satisfied: cryptography>=1.3.4 in /Users/arounekrishnaraj/opt/anaconda3/lib/python3.9/site-packages (from urllib3[secure,socks]~=1.26->selenium) (3.4.8)\n",
      "Requirement already satisfied: certifi in /Users/arounekrishnaraj/opt/anaconda3/lib/python3.9/site-packages (from urllib3[secure,socks]~=1.26->selenium) (2021.10.8)\n",
      "Requirement already satisfied: PySocks!=1.5.7,<2.0,>=1.5.6 in /Users/arounekrishnaraj/opt/anaconda3/lib/python3.9/site-packages (from urllib3[secure,socks]~=1.26->selenium) (1.7.1)\n",
      "Requirement already satisfied: cffi>=1.12 in /Users/arounekrishnaraj/opt/anaconda3/lib/python3.9/site-packages (from cryptography>=1.3.4->urllib3[secure,socks]~=1.26->selenium) (1.14.6)\n",
      "Requirement already satisfied: pycparser in /Users/arounekrishnaraj/opt/anaconda3/lib/python3.9/site-packages (from cffi>=1.12->cryptography>=1.3.4->urllib3[secure,socks]~=1.26->selenium) (2.20)\n",
      "Requirement already satisfied: six>=1.5.2 in /Users/arounekrishnaraj/opt/anaconda3/lib/python3.9/site-packages (from pyOpenSSL>=0.14->urllib3[secure,socks]~=1.26->selenium) (1.16.0)\n",
      "Collecting h11<1,>=0.9.0\n",
      "  Using cached h11-0.13.0-py3-none-any.whl (58 kB)\n",
      "Installing collected packages: outcome, h11, wsproto, trio, trio-websocket, selenium\n",
      "Successfully installed h11-0.13.0 outcome-1.1.0 selenium-4.1.3 trio-0.20.0 trio-websocket-0.9.2 wsproto-1.1.0\n",
      "Note: you may need to restart the kernel to use updated packages.\n"
     ]
    }
   ],
   "source": [
    "pip install selenium"
   ]
  },
  {
   "cell_type": "code",
   "execution_count": 6,
   "id": "e18749ed",
   "metadata": {},
   "outputs": [
    {
     "name": "stderr",
     "output_type": "stream",
     "text": [
      "/var/folders/j2/j_vv0bk54dbbvqdf3zyz8wm80000gn/T/ipykernel_94716/829619502.py:5: DeprecationWarning: executable_path has been deprecated, please pass in a Service object\n",
      "  browser = webdriver.Chrome('/Users/arounekrishnaraj/Desktop/PythonProg/chromedriver')\n"
     ]
    }
   ],
   "source": [
    "import numpy as np\n",
    "from selenium import webdriver \n",
    "from selenium.webdriver.common.keys import Keys\n",
    "#browser = webdriver.Chrome('chemin_vers_votre_chrome_driver')\n",
    "browser = webdriver.Chrome('/Users/arounekrishnaraj/Desktop/PythonProg/chromedriver')"
   ]
  },
  {
   "cell_type": "code",
   "execution_count": 7,
   "id": "5cc3e5a1",
   "metadata": {},
   "outputs": [],
   "source": [
    "browser.get('https://www.orpi.com/recherche/buy?transaction=buy&resultUrl=&realEstateTypes%5B0%5D=maison&realEstateTypes%5B1%5D=appartement&agency=&minSurface=&maxSurface=&minLotSurface=&maxLotSurface=&minStoryLocation=&maxStoryLocation=&newBuild=&oldBuild=&minPrice=&maxPrice=&sort=date-down&layoutType=mixte&page=')"
   ]
  },
  {
   "cell_type": "code",
   "execution_count": 8,
   "id": "65cadc67",
   "metadata": {},
   "outputs": [],
   "source": [
    "browser.maximize_window()"
   ]
  },
  {
   "cell_type": "code",
   "execution_count": 9,
   "id": "3d703072",
   "metadata": {},
   "outputs": [
    {
     "name": "stderr",
     "output_type": "stream",
     "text": [
      "/var/folders/j2/j_vv0bk54dbbvqdf3zyz8wm80000gn/T/ipykernel_94716/2715206790.py:1: DeprecationWarning: find_element_by_xpath is deprecated. Please use find_element(by=By.XPATH, value=xpath) instead\n",
      "  browser.find_element_by_xpath('//*[@id=\"didomi-notice-agree-button\"]').click()\n"
     ]
    }
   ],
   "source": [
    "browser.find_element_by_xpath('//*[@id=\"didomi-notice-agree-button\"]').click()"
   ]
  },
  {
   "cell_type": "code",
   "execution_count": 10,
   "id": "9cc2127e",
   "metadata": {
    "scrolled": true
   },
   "outputs": [
    {
     "name": "stderr",
     "output_type": "stream",
     "text": [
      "/var/folders/j2/j_vv0bk54dbbvqdf3zyz8wm80000gn/T/ipykernel_94716/3018188148.py:1: DeprecationWarning: find_elements_by_xpath is deprecated. Please use find_elements(by=By.XPATH, value=xpath) instead\n",
      "  ul = browser.find_elements_by_xpath('//*[@id=\"document\"]/body/main/div[3]/div/div[2]/div/div/div[1]/ul/li')\n"
     ]
    }
   ],
   "source": [
    "ul = browser.find_elements_by_xpath('//*[@id=\"document\"]/body/main/div[3]/div/div[2]/div/div/div[1]/ul/li')"
   ]
  },
  {
   "cell_type": "code",
   "execution_count": 11,
   "id": "7a139c84",
   "metadata": {
    "scrolled": false
   },
   "outputs": [
    {
     "name": "stderr",
     "output_type": "stream",
     "text": [
      "/Users/arounekrishnaraj/opt/anaconda3/lib/python3.9/site-packages/selenium/webdriver/remote/webelement.py:341: UserWarning: find_element_by_tag_name is deprecated. Please use find_element(by=By.TAG_NAME, value=name) instead\n",
      "  warnings.warn(\"find_element_by_tag_name is deprecated. Please use find_element(by=By.TAG_NAME, value=name) instead\")\n"
     ]
    },
    {
     "data": {
      "text/plain": [
       "'Maison 5 pièces 218 m2'"
      ]
     },
     "execution_count": 11,
     "metadata": {},
     "output_type": "execute_result"
    }
   ],
   "source": [
    "ul[0].find_element_by_tag_name('li article div div div span a ').text"
   ]
  },
  {
   "cell_type": "code",
   "execution_count": 12,
   "id": "e8db205c",
   "metadata": {},
   "outputs": [
    {
     "data": {
      "text/plain": [
       "'525 000 €'"
      ]
     },
     "execution_count": 12,
     "metadata": {},
     "output_type": "execute_result"
    }
   ],
   "source": [
    "ul[0].find_element_by_tag_name('li article div div div strong').text"
   ]
  },
  {
   "cell_type": "code",
   "execution_count": 11,
   "id": "207b8e51",
   "metadata": {},
   "outputs": [
    {
     "data": {
      "text/plain": [
       "'Tavira'"
      ]
     },
     "execution_count": 11,
     "metadata": {},
     "output_type": "execute_result"
    }
   ],
   "source": [
    "ul[0].find_element_by_tag_name('li article div p').text"
   ]
  },
  {
   "cell_type": "code",
   "execution_count": 16,
   "id": "30146528",
   "metadata": {
    "scrolled": false
   },
   "outputs": [],
   "source": [
    "def scrapper(bro):\n",
    "    maison = bro.find_element_by_tag_name('li article div div div span a ').text\n",
    "    prix = bro.find_element_by_tag_name('li article div div div strong').text\n",
    "    ville = bro.find_element_by_tag_name('li article div p').text\n",
    "    return {\"maison\":maison,\"prix\":prix,\"ville\":ville}\n",
    "li = []\n",
    "for x in ul:\n",
    "    li.append(scrapper(x))"
   ]
  },
  {
   "cell_type": "code",
   "execution_count": 17,
   "id": "11b6941a",
   "metadata": {
    "scrolled": true
   },
   "outputs": [
    {
     "data": {
      "text/html": [
       "<div>\n",
       "<style scoped>\n",
       "    .dataframe tbody tr th:only-of-type {\n",
       "        vertical-align: middle;\n",
       "    }\n",
       "\n",
       "    .dataframe tbody tr th {\n",
       "        vertical-align: top;\n",
       "    }\n",
       "\n",
       "    .dataframe thead th {\n",
       "        text-align: right;\n",
       "    }\n",
       "</style>\n",
       "<table border=\"1\" class=\"dataframe\">\n",
       "  <thead>\n",
       "    <tr style=\"text-align: right;\">\n",
       "      <th></th>\n",
       "      <th>maison</th>\n",
       "      <th>prix</th>\n",
       "      <th>ville</th>\n",
       "    </tr>\n",
       "  </thead>\n",
       "  <tbody>\n",
       "    <tr>\n",
       "      <th>0</th>\n",
       "      <td>Maison 5 pièces 218 m2</td>\n",
       "      <td>525 000 €</td>\n",
       "      <td>Tavira</td>\n",
       "    </tr>\n",
       "    <tr>\n",
       "      <th>1</th>\n",
       "      <td>Maison 4 pièces 95 m2</td>\n",
       "      <td>276 082 €</td>\n",
       "      <td>Pacy-sur-Eure</td>\n",
       "    </tr>\n",
       "    <tr>\n",
       "      <th>2</th>\n",
       "      <td>Maison 6 pièces 108 m2</td>\n",
       "      <td>459 900 €</td>\n",
       "      <td>Décines-Charpieu</td>\n",
       "    </tr>\n",
       "    <tr>\n",
       "      <th>3</th>\n",
       "      <td>Maison 3 pièces 80 m2</td>\n",
       "      <td>118 000 €</td>\n",
       "      <td>Saint-Jean-de-Muzols</td>\n",
       "    </tr>\n",
       "    <tr>\n",
       "      <th>4</th>\n",
       "      <td>Maison 10 pièces 320 m2</td>\n",
       "      <td>735 000 €</td>\n",
       "      <td>Ailly-sur-Noye</td>\n",
       "    </tr>\n",
       "    <tr>\n",
       "      <th>5</th>\n",
       "      <td>Maison 5 pièces 115 m2</td>\n",
       "      <td>329 000 €</td>\n",
       "      <td>Vigy</td>\n",
       "    </tr>\n",
       "    <tr>\n",
       "      <th>6</th>\n",
       "      <td>Maison 7 pièces 150 m2</td>\n",
       "      <td>314 000 €</td>\n",
       "      <td>Serémange-Erzange</td>\n",
       "    </tr>\n",
       "    <tr>\n",
       "      <th>7</th>\n",
       "      <td>Maison 7 pièces 135 m2</td>\n",
       "      <td>162 000 €</td>\n",
       "      <td>Freistroff</td>\n",
       "    </tr>\n",
       "    <tr>\n",
       "      <th>8</th>\n",
       "      <td>Maison 6 pièces 127 m2</td>\n",
       "      <td>389 700 €</td>\n",
       "      <td>Saint-Jean-de-Monts</td>\n",
       "    </tr>\n",
       "    <tr>\n",
       "      <th>9</th>\n",
       "      <td>Maison 4 pièces 95 m2</td>\n",
       "      <td>168 000 €</td>\n",
       "      <td>Vendôme</td>\n",
       "    </tr>\n",
       "    <tr>\n",
       "      <th>10</th>\n",
       "      <td>Maison 7 pièces 135 m2</td>\n",
       "      <td>439 800 €</td>\n",
       "      <td>Le Grand-Village-Plage</td>\n",
       "    </tr>\n",
       "    <tr>\n",
       "      <th>11</th>\n",
       "      <td>Maison 5 pièces 95 m2</td>\n",
       "      <td>280 000 €</td>\n",
       "      <td>Laversines</td>\n",
       "    </tr>\n",
       "  </tbody>\n",
       "</table>\n",
       "</div>"
      ],
      "text/plain": [
       "                     maison       prix                   ville\n",
       "0    Maison 5 pièces 218 m2  525 000 €                  Tavira\n",
       "1     Maison 4 pièces 95 m2  276 082 €           Pacy-sur-Eure\n",
       "2    Maison 6 pièces 108 m2  459 900 €        Décines-Charpieu\n",
       "3     Maison 3 pièces 80 m2  118 000 €    Saint-Jean-de-Muzols\n",
       "4   Maison 10 pièces 320 m2  735 000 €          Ailly-sur-Noye\n",
       "5    Maison 5 pièces 115 m2  329 000 €                    Vigy\n",
       "6    Maison 7 pièces 150 m2  314 000 €       Serémange-Erzange\n",
       "7    Maison 7 pièces 135 m2  162 000 €              Freistroff\n",
       "8    Maison 6 pièces 127 m2  389 700 €     Saint-Jean-de-Monts\n",
       "9     Maison 4 pièces 95 m2  168 000 €                 Vendôme\n",
       "10   Maison 7 pièces 135 m2  439 800 €  Le Grand-Village-Plage\n",
       "11    Maison 5 pièces 95 m2  280 000 €              Laversines"
      ]
     },
     "execution_count": 17,
     "metadata": {},
     "output_type": "execute_result"
    }
   ],
   "source": [
    "import pandas as pd\n",
    "df = pd.DataFrame(li)\n",
    "df"
   ]
  },
  {
   "cell_type": "code",
   "execution_count": 18,
   "id": "956756ad",
   "metadata": {
    "scrolled": true
   },
   "outputs": [],
   "source": [
    "df.to_csv('Orpi.csv',index=False)"
   ]
  },
  {
   "cell_type": "code",
   "execution_count": 22,
   "id": "8f77d3c5",
   "metadata": {
    "scrolled": true
   },
   "outputs": [
    {
     "data": {
      "text/html": [
       "<div>\n",
       "<style scoped>\n",
       "    .dataframe tbody tr th:only-of-type {\n",
       "        vertical-align: middle;\n",
       "    }\n",
       "\n",
       "    .dataframe tbody tr th {\n",
       "        vertical-align: top;\n",
       "    }\n",
       "\n",
       "    .dataframe thead th {\n",
       "        text-align: right;\n",
       "    }\n",
       "</style>\n",
       "<table border=\"1\" class=\"dataframe\">\n",
       "  <thead>\n",
       "    <tr style=\"text-align: right;\">\n",
       "      <th></th>\n",
       "      <th>maison</th>\n",
       "      <th>prix</th>\n",
       "      <th>ville</th>\n",
       "    </tr>\n",
       "  </thead>\n",
       "  <tbody>\n",
       "    <tr>\n",
       "      <th>0</th>\n",
       "      <td>Maison 5 pièces 218 m2</td>\n",
       "      <td>525 000 €</td>\n",
       "      <td>Tavira</td>\n",
       "    </tr>\n",
       "    <tr>\n",
       "      <th>1</th>\n",
       "      <td>Maison 4 pièces 95 m2</td>\n",
       "      <td>276 082 €</td>\n",
       "      <td>Pacy-sur-Eure</td>\n",
       "    </tr>\n",
       "    <tr>\n",
       "      <th>2</th>\n",
       "      <td>Maison 6 pièces 108 m2</td>\n",
       "      <td>459 900 €</td>\n",
       "      <td>Décines-Charpieu</td>\n",
       "    </tr>\n",
       "    <tr>\n",
       "      <th>3</th>\n",
       "      <td>Maison 3 pièces 80 m2</td>\n",
       "      <td>118 000 €</td>\n",
       "      <td>Saint-Jean-de-Muzols</td>\n",
       "    </tr>\n",
       "    <tr>\n",
       "      <th>4</th>\n",
       "      <td>Maison 10 pièces 320 m2</td>\n",
       "      <td>735 000 €</td>\n",
       "      <td>Ailly-sur-Noye</td>\n",
       "    </tr>\n",
       "    <tr>\n",
       "      <th>5</th>\n",
       "      <td>Maison 5 pièces 115 m2</td>\n",
       "      <td>329 000 €</td>\n",
       "      <td>Vigy</td>\n",
       "    </tr>\n",
       "    <tr>\n",
       "      <th>6</th>\n",
       "      <td>Maison 7 pièces 150 m2</td>\n",
       "      <td>314 000 €</td>\n",
       "      <td>Serémange-Erzange</td>\n",
       "    </tr>\n",
       "    <tr>\n",
       "      <th>7</th>\n",
       "      <td>Maison 7 pièces 135 m2</td>\n",
       "      <td>162 000 €</td>\n",
       "      <td>Freistroff</td>\n",
       "    </tr>\n",
       "    <tr>\n",
       "      <th>8</th>\n",
       "      <td>Maison 6 pièces 127 m2</td>\n",
       "      <td>389 700 €</td>\n",
       "      <td>Saint-Jean-de-Monts</td>\n",
       "    </tr>\n",
       "    <tr>\n",
       "      <th>9</th>\n",
       "      <td>Maison 4 pièces 95 m2</td>\n",
       "      <td>168 000 €</td>\n",
       "      <td>Vendôme</td>\n",
       "    </tr>\n",
       "    <tr>\n",
       "      <th>10</th>\n",
       "      <td>Maison 7 pièces 135 m2</td>\n",
       "      <td>439 800 €</td>\n",
       "      <td>Le Grand-Village-Plage</td>\n",
       "    </tr>\n",
       "    <tr>\n",
       "      <th>11</th>\n",
       "      <td>Maison 5 pièces 95 m2</td>\n",
       "      <td>280 000 €</td>\n",
       "      <td>Laversines</td>\n",
       "    </tr>\n",
       "  </tbody>\n",
       "</table>\n",
       "</div>"
      ],
      "text/plain": [
       "                     maison       prix                   ville\n",
       "0    Maison 5 pièces 218 m2  525 000 €                  Tavira\n",
       "1     Maison 4 pièces 95 m2  276 082 €           Pacy-sur-Eure\n",
       "2    Maison 6 pièces 108 m2  459 900 €        Décines-Charpieu\n",
       "3     Maison 3 pièces 80 m2  118 000 €    Saint-Jean-de-Muzols\n",
       "4   Maison 10 pièces 320 m2  735 000 €          Ailly-sur-Noye\n",
       "5    Maison 5 pièces 115 m2  329 000 €                    Vigy\n",
       "6    Maison 7 pièces 150 m2  314 000 €       Serémange-Erzange\n",
       "7    Maison 7 pièces 135 m2  162 000 €              Freistroff\n",
       "8    Maison 6 pièces 127 m2  389 700 €     Saint-Jean-de-Monts\n",
       "9     Maison 4 pièces 95 m2  168 000 €                 Vendôme\n",
       "10   Maison 7 pièces 135 m2  439 800 €  Le Grand-Village-Plage\n",
       "11    Maison 5 pièces 95 m2  280 000 €              Laversines"
      ]
     },
     "execution_count": 22,
     "metadata": {},
     "output_type": "execute_result"
    }
   ],
   "source": [
    "df_save_file = pd.read_csv('Orpi.csv' , encoding = 'utf8')\n",
    "df_save_file"
   ]
  },
  {
   "cell_type": "code",
   "execution_count": null,
   "id": "7255f6f0",
   "metadata": {},
   "outputs": [],
   "source": [
    "#//*[@id=\"document\"]/body/main/div[3]/div/div[2]/div/div/div[1]/ul\n",
    "\n",
    "#//*[@id=\"document\"]/body/main/div[3]/div/div[2]/div/div/div[1]/ul/li[1]\n",
    "\n",
    "#//*[@id=\"ORPI-MA223\"]/div[2]/div[1]/div[2]/strong\n",
    "\n",
    "#//*[@id=\"ORPI-MA223\"]/div[2]/p"
   ]
  }
 ],
 "metadata": {
  "kernelspec": {
   "display_name": "Python 3 (ipykernel)",
   "language": "python",
   "name": "python3"
  },
  "language_info": {
   "codemirror_mode": {
    "name": "ipython",
    "version": 3
   },
   "file_extension": ".py",
   "mimetype": "text/x-python",
   "name": "python",
   "nbconvert_exporter": "python",
   "pygments_lexer": "ipython3",
   "version": "3.9.7"
  }
 },
 "nbformat": 4,
 "nbformat_minor": 5
}
